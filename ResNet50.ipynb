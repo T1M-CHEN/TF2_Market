{
 "cells": [
  {
   "cell_type": "markdown",
   "metadata": {},
   "source": [
    "## TensorFlow 2 ResNet 模型训练 \n"
   ]
  },
  {
   "cell_type": "code",
   "execution_count": 1,
   "metadata": {},
   "outputs": [
    {
     "name": "stdout",
     "output_type": "stream",
     "text": [
      "Incomplete or invalid multibyte sequence encountered\n",
      "Incomplete or invalid multibyte sequence encountered\n",
      "--2021-09-06 19:53:58--  https://pinlandata.blob.core.windows.net/pinlan-data-hub/%E5%A4%96%E5%8C%85%E9%87%87%E9%9B%86/0524%E5%88%86%E7%B1%BB%E6%95%B0%E6%8D%AE%E9%9B%86/%E7%99%BD%E9%85%92%E5%88%86%E7%B1%BB%E6%95%B0%E6%8D%AE%E9%9B%860524.zip\n",
      "Resolving pinlandata.blob.core.windows.net (pinlandata.blob.core.windows.net)... 52.239.128.36\n",
      "Connecting to pinlandata.blob.core.windows.net (pinlandata.blob.core.windows.net)|52.239.128.36|:443... connected.\n",
      "HTTP request sent, awaiting response... 200 OK\n",
      "Length: 232925795 (222M) [application/zip]\n",
      "Saving to: '\\347\\231\\275\\351\\205\\222\\345\\210\\206\\347\\261\\273\\346\\225\\260\\346\\215\\256\\351\\233\\2060524.zip'\n",
      "\n",
      "白酒分类数据� 100%[===================>] 222.13M  1012KB/s    in 3m 36s  ta 0s       \n",
      "\n",
      "2021-09-06 19:57:35 (1.03 MB/s) - '\\347\\231\\275\\351\\205\\222\\345\\210\\206\\347\\261\\273\\346\\225\\260\\346\\215\\256\\351\\233\\2060524.zip' saved [232925795/232925795]\n",
      "\n"
     ]
    }
   ],
   "source": [
    "!wget https://pinlandata.blob.core.windows.net/pinlan-data-hub/%E5%A4%96%E5%8C%85%E9%87%87%E9%9B%86/0524%E5%88%86%E7%B1%BB%E6%95%B0%E6%8D%AE%E9%9B%86/%E7%99%BD%E9%85%92%E5%88%86%E7%B1%BB%E6%95%B0%E6%8D%AE%E9%9B%860524.zip"
   ]
  },
  {
   "cell_type": "markdown",
   "metadata": {},
   "source": [
    "### 数据集准备"
   ]
  },
  {
   "cell_type": "code",
   "execution_count": 14,
   "metadata": {
    "tags": []
   },
   "outputs": [],
   "source": [
    "cate = \"classified\"\n",
    "# 数据路径\n",
    "dataset_path = f\"data/{cate}\"\n",
    "# 训练集路径\n",
    "train_dataset_path = f\"{dataset_path}/train\"\n",
    "# 验证集路径\n",
    "val_dataset_path = f\"{dataset_path}/val\""
   ]
  },
  {
   "cell_type": "code",
   "execution_count": 15,
   "metadata": {},
   "outputs": [],
   "source": [
    "# 划分数据集（首次执行）\n",
    "from data_prep.dataset import Dataset\n",
    "# 训练和验证集比例\n",
    "train_ratio = 0.9\n",
    "\n",
    "data_loader = Dataset(dataset_path, train_ratio=train_ratio) "
   ]
  },
  {
   "cell_type": "code",
   "execution_count": 16,
   "metadata": {},
   "outputs": [
    {
     "name": "stdout",
     "output_type": "stream",
     "text": [
      "类别总数：166\n"
     ]
    }
   ],
   "source": [
    "# 提取类别名称\n",
    "import os\n",
    "class_name = list(\n",
    "    filter(\n",
    "        lambda x: not x.startswith(\".\")\n",
    "        and os.path.isdir(os.path.join(train_dataset_path, x)),\n",
    "        os.listdir(train_dataset_path),\n",
    "    )\n",
    ")\n",
    "print(f\"类别总数：{len(class_name)}\")"
   ]
  },
  {
   "cell_type": "code",
   "execution_count": 17,
   "metadata": {},
   "outputs": [],
   "source": [
    "# class_name"
   ]
  },
  {
   "cell_type": "markdown",
   "metadata": {},
   "source": [
    "### 模型准备"
   ]
  },
  {
   "cell_type": "code",
   "execution_count": 18,
   "metadata": {},
   "outputs": [],
   "source": [
    "model = \"ResNet50\"\n",
    "model_name = f\"{model}_{cate}\"\n",
    "model_path = f\"models/{model}/{model_name}.h5\""
   ]
  },
  {
   "cell_type": "code",
   "execution_count": 19,
   "metadata": {},
   "outputs": [],
   "source": [
    "from tensorflow import keras as keras\n",
    "from PIL import Image\n",
    "\n",
    "import tensorflow as tf\n",
    "import numpy as np\n",
    "\n",
    "keras.backend.clear_session()  # For easy reset of notebook state.\n",
    "\n",
    "gpus = tf.config.experimental.list_physical_devices('GPU')\n",
    "tf.config.set_visible_devices(devices=gpus[0], device_type=\"GPU\")"
   ]
  },
  {
   "cell_type": "code",
   "execution_count": 20,
   "metadata": {},
   "outputs": [],
   "source": [
    "from tensorflow.keras.applications import ResNet50\n",
    "\n",
    "base_model = ResNet50(include_top=False, weights='imagenet', classes=1000)\n",
    "base_model.trainable = False"
   ]
  },
  {
   "cell_type": "code",
   "execution_count": 21,
   "metadata": {},
   "outputs": [],
   "source": [
    "from tensorflow.keras.layers import Dense, GlobalAveragePooling2D\n",
    "from tensorflow.keras import Model\n",
    "\n",
    "x = base_model.output\n",
    "x = GlobalAveragePooling2D()(x) \n",
    "x = Dense(1024, activation='relu')(x) \n",
    "x = Dense(1024, activation='relu')(x) \n",
    "y = Dense(len(class_name), activation='softmax')(x) #final layer with softmax activation\n",
    "\n",
    "model = Model(inputs=base_model.input, outputs=y, name=model_name)"
   ]
  },
  {
   "cell_type": "code",
   "execution_count": 23,
   "metadata": {
    "collapsed": true,
    "jupyter": {
     "outputs_hidden": true
    },
    "tags": []
   },
   "outputs": [
    {
     "name": "stdout",
     "output_type": "stream",
     "text": [
      "Model: \"ResNet50_classified\"\n",
      "__________________________________________________________________________________________________\n",
      "Layer (type)                    Output Shape         Param #     Connected to                     \n",
      "==================================================================================================\n",
      "input_1 (InputLayer)            [(None, None, None,  0                                            \n",
      "__________________________________________________________________________________________________\n",
      "conv1_pad (ZeroPadding2D)       (None, None, None, 3 0           input_1[0][0]                    \n",
      "__________________________________________________________________________________________________\n",
      "conv1_conv (Conv2D)             (None, None, None, 6 9472        conv1_pad[0][0]                  \n",
      "__________________________________________________________________________________________________\n",
      "conv1_bn (BatchNormalization)   (None, None, None, 6 256         conv1_conv[0][0]                 \n",
      "__________________________________________________________________________________________________\n",
      "conv1_relu (Activation)         (None, None, None, 6 0           conv1_bn[0][0]                   \n",
      "__________________________________________________________________________________________________\n",
      "pool1_pad (ZeroPadding2D)       (None, None, None, 6 0           conv1_relu[0][0]                 \n",
      "__________________________________________________________________________________________________\n",
      "pool1_pool (MaxPooling2D)       (None, None, None, 6 0           pool1_pad[0][0]                  \n",
      "__________________________________________________________________________________________________\n",
      "conv2_block1_1_conv (Conv2D)    (None, None, None, 6 4160        pool1_pool[0][0]                 \n",
      "__________________________________________________________________________________________________\n",
      "conv2_block1_1_bn (BatchNormali (None, None, None, 6 256         conv2_block1_1_conv[0][0]        \n",
      "__________________________________________________________________________________________________\n",
      "conv2_block1_1_relu (Activation (None, None, None, 6 0           conv2_block1_1_bn[0][0]          \n",
      "__________________________________________________________________________________________________\n",
      "conv2_block1_2_conv (Conv2D)    (None, None, None, 6 36928       conv2_block1_1_relu[0][0]        \n",
      "__________________________________________________________________________________________________\n",
      "conv2_block1_2_bn (BatchNormali (None, None, None, 6 256         conv2_block1_2_conv[0][0]        \n",
      "__________________________________________________________________________________________________\n",
      "conv2_block1_2_relu (Activation (None, None, None, 6 0           conv2_block1_2_bn[0][0]          \n",
      "__________________________________________________________________________________________________\n",
      "conv2_block1_0_conv (Conv2D)    (None, None, None, 2 16640       pool1_pool[0][0]                 \n",
      "__________________________________________________________________________________________________\n",
      "conv2_block1_3_conv (Conv2D)    (None, None, None, 2 16640       conv2_block1_2_relu[0][0]        \n",
      "__________________________________________________________________________________________________\n",
      "conv2_block1_0_bn (BatchNormali (None, None, None, 2 1024        conv2_block1_0_conv[0][0]        \n",
      "__________________________________________________________________________________________________\n",
      "conv2_block1_3_bn (BatchNormali (None, None, None, 2 1024        conv2_block1_3_conv[0][0]        \n",
      "__________________________________________________________________________________________________\n",
      "conv2_block1_add (Add)          (None, None, None, 2 0           conv2_block1_0_bn[0][0]          \n",
      "                                                                 conv2_block1_3_bn[0][0]          \n",
      "__________________________________________________________________________________________________\n",
      "conv2_block1_out (Activation)   (None, None, None, 2 0           conv2_block1_add[0][0]           \n",
      "__________________________________________________________________________________________________\n",
      "conv2_block2_1_conv (Conv2D)    (None, None, None, 6 16448       conv2_block1_out[0][0]           \n",
      "__________________________________________________________________________________________________\n",
      "conv2_block2_1_bn (BatchNormali (None, None, None, 6 256         conv2_block2_1_conv[0][0]        \n",
      "__________________________________________________________________________________________________\n",
      "conv2_block2_1_relu (Activation (None, None, None, 6 0           conv2_block2_1_bn[0][0]          \n",
      "__________________________________________________________________________________________________\n",
      "conv2_block2_2_conv (Conv2D)    (None, None, None, 6 36928       conv2_block2_1_relu[0][0]        \n",
      "__________________________________________________________________________________________________\n",
      "conv2_block2_2_bn (BatchNormali (None, None, None, 6 256         conv2_block2_2_conv[0][0]        \n",
      "__________________________________________________________________________________________________\n",
      "conv2_block2_2_relu (Activation (None, None, None, 6 0           conv2_block2_2_bn[0][0]          \n",
      "__________________________________________________________________________________________________\n",
      "conv2_block2_3_conv (Conv2D)    (None, None, None, 2 16640       conv2_block2_2_relu[0][0]        \n",
      "__________________________________________________________________________________________________\n",
      "conv2_block2_3_bn (BatchNormali (None, None, None, 2 1024        conv2_block2_3_conv[0][0]        \n",
      "__________________________________________________________________________________________________\n",
      "conv2_block2_add (Add)          (None, None, None, 2 0           conv2_block1_out[0][0]           \n",
      "                                                                 conv2_block2_3_bn[0][0]          \n",
      "__________________________________________________________________________________________________\n",
      "conv2_block2_out (Activation)   (None, None, None, 2 0           conv2_block2_add[0][0]           \n",
      "__________________________________________________________________________________________________\n",
      "conv2_block3_1_conv (Conv2D)    (None, None, None, 6 16448       conv2_block2_out[0][0]           \n",
      "__________________________________________________________________________________________________\n",
      "conv2_block3_1_bn (BatchNormali (None, None, None, 6 256         conv2_block3_1_conv[0][0]        \n",
      "__________________________________________________________________________________________________\n",
      "conv2_block3_1_relu (Activation (None, None, None, 6 0           conv2_block3_1_bn[0][0]          \n",
      "__________________________________________________________________________________________________\n",
      "conv2_block3_2_conv (Conv2D)    (None, None, None, 6 36928       conv2_block3_1_relu[0][0]        \n",
      "__________________________________________________________________________________________________\n",
      "conv2_block3_2_bn (BatchNormali (None, None, None, 6 256         conv2_block3_2_conv[0][0]        \n",
      "__________________________________________________________________________________________________\n",
      "conv2_block3_2_relu (Activation (None, None, None, 6 0           conv2_block3_2_bn[0][0]          \n",
      "__________________________________________________________________________________________________\n",
      "conv2_block3_3_conv (Conv2D)    (None, None, None, 2 16640       conv2_block3_2_relu[0][0]        \n",
      "__________________________________________________________________________________________________\n",
      "conv2_block3_3_bn (BatchNormali (None, None, None, 2 1024        conv2_block3_3_conv[0][0]        \n",
      "__________________________________________________________________________________________________\n",
      "conv2_block3_add (Add)          (None, None, None, 2 0           conv2_block2_out[0][0]           \n",
      "                                                                 conv2_block3_3_bn[0][0]          \n",
      "__________________________________________________________________________________________________\n",
      "conv2_block3_out (Activation)   (None, None, None, 2 0           conv2_block3_add[0][0]           \n",
      "__________________________________________________________________________________________________\n",
      "conv3_block1_1_conv (Conv2D)    (None, None, None, 1 32896       conv2_block3_out[0][0]           \n",
      "__________________________________________________________________________________________________\n",
      "conv3_block1_1_bn (BatchNormali (None, None, None, 1 512         conv3_block1_1_conv[0][0]        \n",
      "__________________________________________________________________________________________________\n",
      "conv3_block1_1_relu (Activation (None, None, None, 1 0           conv3_block1_1_bn[0][0]          \n",
      "__________________________________________________________________________________________________\n",
      "conv3_block1_2_conv (Conv2D)    (None, None, None, 1 147584      conv3_block1_1_relu[0][0]        \n",
      "__________________________________________________________________________________________________\n",
      "conv3_block1_2_bn (BatchNormali (None, None, None, 1 512         conv3_block1_2_conv[0][0]        \n",
      "__________________________________________________________________________________________________\n",
      "conv3_block1_2_relu (Activation (None, None, None, 1 0           conv3_block1_2_bn[0][0]          \n",
      "__________________________________________________________________________________________________\n",
      "conv3_block1_0_conv (Conv2D)    (None, None, None, 5 131584      conv2_block3_out[0][0]           \n",
      "__________________________________________________________________________________________________\n",
      "conv3_block1_3_conv (Conv2D)    (None, None, None, 5 66048       conv3_block1_2_relu[0][0]        \n",
      "__________________________________________________________________________________________________\n",
      "conv3_block1_0_bn (BatchNormali (None, None, None, 5 2048        conv3_block1_0_conv[0][0]        \n",
      "__________________________________________________________________________________________________\n",
      "conv3_block1_3_bn (BatchNormali (None, None, None, 5 2048        conv3_block1_3_conv[0][0]        \n",
      "__________________________________________________________________________________________________\n",
      "conv3_block1_add (Add)          (None, None, None, 5 0           conv3_block1_0_bn[0][0]          \n",
      "                                                                 conv3_block1_3_bn[0][0]          \n",
      "__________________________________________________________________________________________________\n",
      "conv3_block1_out (Activation)   (None, None, None, 5 0           conv3_block1_add[0][0]           \n",
      "__________________________________________________________________________________________________\n",
      "conv3_block2_1_conv (Conv2D)    (None, None, None, 1 65664       conv3_block1_out[0][0]           \n",
      "__________________________________________________________________________________________________\n",
      "conv3_block2_1_bn (BatchNormali (None, None, None, 1 512         conv3_block2_1_conv[0][0]        \n",
      "__________________________________________________________________________________________________\n",
      "conv3_block2_1_relu (Activation (None, None, None, 1 0           conv3_block2_1_bn[0][0]          \n",
      "__________________________________________________________________________________________________\n",
      "conv3_block2_2_conv (Conv2D)    (None, None, None, 1 147584      conv3_block2_1_relu[0][0]        \n",
      "__________________________________________________________________________________________________\n",
      "conv3_block2_2_bn (BatchNormali (None, None, None, 1 512         conv3_block2_2_conv[0][0]        \n",
      "__________________________________________________________________________________________________\n",
      "conv3_block2_2_relu (Activation (None, None, None, 1 0           conv3_block2_2_bn[0][0]          \n",
      "__________________________________________________________________________________________________\n",
      "conv3_block2_3_conv (Conv2D)    (None, None, None, 5 66048       conv3_block2_2_relu[0][0]        \n",
      "__________________________________________________________________________________________________\n",
      "conv3_block2_3_bn (BatchNormali (None, None, None, 5 2048        conv3_block2_3_conv[0][0]        \n",
      "__________________________________________________________________________________________________\n",
      "conv3_block2_add (Add)          (None, None, None, 5 0           conv3_block1_out[0][0]           \n",
      "                                                                 conv3_block2_3_bn[0][0]          \n",
      "__________________________________________________________________________________________________\n",
      "conv3_block2_out (Activation)   (None, None, None, 5 0           conv3_block2_add[0][0]           \n",
      "__________________________________________________________________________________________________\n",
      "conv3_block3_1_conv (Conv2D)    (None, None, None, 1 65664       conv3_block2_out[0][0]           \n",
      "__________________________________________________________________________________________________\n",
      "conv3_block3_1_bn (BatchNormali (None, None, None, 1 512         conv3_block3_1_conv[0][0]        \n",
      "__________________________________________________________________________________________________\n",
      "conv3_block3_1_relu (Activation (None, None, None, 1 0           conv3_block3_1_bn[0][0]          \n",
      "__________________________________________________________________________________________________\n",
      "conv3_block3_2_conv (Conv2D)    (None, None, None, 1 147584      conv3_block3_1_relu[0][0]        \n",
      "__________________________________________________________________________________________________\n",
      "conv3_block3_2_bn (BatchNormali (None, None, None, 1 512         conv3_block3_2_conv[0][0]        \n",
      "__________________________________________________________________________________________________\n",
      "conv3_block3_2_relu (Activation (None, None, None, 1 0           conv3_block3_2_bn[0][0]          \n",
      "__________________________________________________________________________________________________\n",
      "conv3_block3_3_conv (Conv2D)    (None, None, None, 5 66048       conv3_block3_2_relu[0][0]        \n",
      "__________________________________________________________________________________________________\n",
      "conv3_block3_3_bn (BatchNormali (None, None, None, 5 2048        conv3_block3_3_conv[0][0]        \n",
      "__________________________________________________________________________________________________\n",
      "conv3_block3_add (Add)          (None, None, None, 5 0           conv3_block2_out[0][0]           \n",
      "                                                                 conv3_block3_3_bn[0][0]          \n",
      "__________________________________________________________________________________________________\n",
      "conv3_block3_out (Activation)   (None, None, None, 5 0           conv3_block3_add[0][0]           \n",
      "__________________________________________________________________________________________________\n",
      "conv3_block4_1_conv (Conv2D)    (None, None, None, 1 65664       conv3_block3_out[0][0]           \n",
      "__________________________________________________________________________________________________\n",
      "conv3_block4_1_bn (BatchNormali (None, None, None, 1 512         conv3_block4_1_conv[0][0]        \n",
      "__________________________________________________________________________________________________\n",
      "conv3_block4_1_relu (Activation (None, None, None, 1 0           conv3_block4_1_bn[0][0]          \n",
      "__________________________________________________________________________________________________\n",
      "conv3_block4_2_conv (Conv2D)    (None, None, None, 1 147584      conv3_block4_1_relu[0][0]        \n",
      "__________________________________________________________________________________________________\n",
      "conv3_block4_2_bn (BatchNormali (None, None, None, 1 512         conv3_block4_2_conv[0][0]        \n",
      "__________________________________________________________________________________________________\n",
      "conv3_block4_2_relu (Activation (None, None, None, 1 0           conv3_block4_2_bn[0][0]          \n",
      "__________________________________________________________________________________________________\n",
      "conv3_block4_3_conv (Conv2D)    (None, None, None, 5 66048       conv3_block4_2_relu[0][0]        \n",
      "__________________________________________________________________________________________________\n",
      "conv3_block4_3_bn (BatchNormali (None, None, None, 5 2048        conv3_block4_3_conv[0][0]        \n",
      "__________________________________________________________________________________________________\n",
      "conv3_block4_add (Add)          (None, None, None, 5 0           conv3_block3_out[0][0]           \n",
      "                                                                 conv3_block4_3_bn[0][0]          \n",
      "__________________________________________________________________________________________________\n",
      "conv3_block4_out (Activation)   (None, None, None, 5 0           conv3_block4_add[0][0]           \n",
      "__________________________________________________________________________________________________\n",
      "conv4_block1_1_conv (Conv2D)    (None, None, None, 2 131328      conv3_block4_out[0][0]           \n",
      "__________________________________________________________________________________________________\n",
      "conv4_block1_1_bn (BatchNormali (None, None, None, 2 1024        conv4_block1_1_conv[0][0]        \n",
      "__________________________________________________________________________________________________\n",
      "conv4_block1_1_relu (Activation (None, None, None, 2 0           conv4_block1_1_bn[0][0]          \n",
      "__________________________________________________________________________________________________\n",
      "conv4_block1_2_conv (Conv2D)    (None, None, None, 2 590080      conv4_block1_1_relu[0][0]        \n",
      "__________________________________________________________________________________________________\n",
      "conv4_block1_2_bn (BatchNormali (None, None, None, 2 1024        conv4_block1_2_conv[0][0]        \n",
      "__________________________________________________________________________________________________\n",
      "conv4_block1_2_relu (Activation (None, None, None, 2 0           conv4_block1_2_bn[0][0]          \n",
      "__________________________________________________________________________________________________\n",
      "conv4_block1_0_conv (Conv2D)    (None, None, None, 1 525312      conv3_block4_out[0][0]           \n",
      "__________________________________________________________________________________________________\n",
      "conv4_block1_3_conv (Conv2D)    (None, None, None, 1 263168      conv4_block1_2_relu[0][0]        \n",
      "__________________________________________________________________________________________________\n",
      "conv4_block1_0_bn (BatchNormali (None, None, None, 1 4096        conv4_block1_0_conv[0][0]        \n",
      "__________________________________________________________________________________________________\n",
      "conv4_block1_3_bn (BatchNormali (None, None, None, 1 4096        conv4_block1_3_conv[0][0]        \n",
      "__________________________________________________________________________________________________\n",
      "conv4_block1_add (Add)          (None, None, None, 1 0           conv4_block1_0_bn[0][0]          \n",
      "                                                                 conv4_block1_3_bn[0][0]          \n",
      "__________________________________________________________________________________________________\n",
      "conv4_block1_out (Activation)   (None, None, None, 1 0           conv4_block1_add[0][0]           \n",
      "__________________________________________________________________________________________________\n",
      "conv4_block2_1_conv (Conv2D)    (None, None, None, 2 262400      conv4_block1_out[0][0]           \n",
      "__________________________________________________________________________________________________\n",
      "conv4_block2_1_bn (BatchNormali (None, None, None, 2 1024        conv4_block2_1_conv[0][0]        \n",
      "__________________________________________________________________________________________________\n",
      "conv4_block2_1_relu (Activation (None, None, None, 2 0           conv4_block2_1_bn[0][0]          \n",
      "__________________________________________________________________________________________________\n",
      "conv4_block2_2_conv (Conv2D)    (None, None, None, 2 590080      conv4_block2_1_relu[0][0]        \n",
      "__________________________________________________________________________________________________\n",
      "conv4_block2_2_bn (BatchNormali (None, None, None, 2 1024        conv4_block2_2_conv[0][0]        \n",
      "__________________________________________________________________________________________________\n",
      "conv4_block2_2_relu (Activation (None, None, None, 2 0           conv4_block2_2_bn[0][0]          \n",
      "__________________________________________________________________________________________________\n",
      "conv4_block2_3_conv (Conv2D)    (None, None, None, 1 263168      conv4_block2_2_relu[0][0]        \n",
      "__________________________________________________________________________________________________\n",
      "conv4_block2_3_bn (BatchNormali (None, None, None, 1 4096        conv4_block2_3_conv[0][0]        \n",
      "__________________________________________________________________________________________________\n",
      "conv4_block2_add (Add)          (None, None, None, 1 0           conv4_block1_out[0][0]           \n",
      "                                                                 conv4_block2_3_bn[0][0]          \n",
      "__________________________________________________________________________________________________\n",
      "conv4_block2_out (Activation)   (None, None, None, 1 0           conv4_block2_add[0][0]           \n",
      "__________________________________________________________________________________________________\n",
      "conv4_block3_1_conv (Conv2D)    (None, None, None, 2 262400      conv4_block2_out[0][0]           \n",
      "__________________________________________________________________________________________________\n",
      "conv4_block3_1_bn (BatchNormali (None, None, None, 2 1024        conv4_block3_1_conv[0][0]        \n",
      "__________________________________________________________________________________________________\n",
      "conv4_block3_1_relu (Activation (None, None, None, 2 0           conv4_block3_1_bn[0][0]          \n",
      "__________________________________________________________________________________________________\n",
      "conv4_block3_2_conv (Conv2D)    (None, None, None, 2 590080      conv4_block3_1_relu[0][0]        \n",
      "__________________________________________________________________________________________________\n",
      "conv4_block3_2_bn (BatchNormali (None, None, None, 2 1024        conv4_block3_2_conv[0][0]        \n",
      "__________________________________________________________________________________________________\n",
      "conv4_block3_2_relu (Activation (None, None, None, 2 0           conv4_block3_2_bn[0][0]          \n",
      "__________________________________________________________________________________________________\n",
      "conv4_block3_3_conv (Conv2D)    (None, None, None, 1 263168      conv4_block3_2_relu[0][0]        \n",
      "__________________________________________________________________________________________________\n",
      "conv4_block3_3_bn (BatchNormali (None, None, None, 1 4096        conv4_block3_3_conv[0][0]        \n",
      "__________________________________________________________________________________________________\n",
      "conv4_block3_add (Add)          (None, None, None, 1 0           conv4_block2_out[0][0]           \n",
      "                                                                 conv4_block3_3_bn[0][0]          \n",
      "__________________________________________________________________________________________________\n",
      "conv4_block3_out (Activation)   (None, None, None, 1 0           conv4_block3_add[0][0]           \n",
      "__________________________________________________________________________________________________\n",
      "conv4_block4_1_conv (Conv2D)    (None, None, None, 2 262400      conv4_block3_out[0][0]           \n",
      "__________________________________________________________________________________________________\n",
      "conv4_block4_1_bn (BatchNormali (None, None, None, 2 1024        conv4_block4_1_conv[0][0]        \n",
      "__________________________________________________________________________________________________\n",
      "conv4_block4_1_relu (Activation (None, None, None, 2 0           conv4_block4_1_bn[0][0]          \n",
      "__________________________________________________________________________________________________\n",
      "conv4_block4_2_conv (Conv2D)    (None, None, None, 2 590080      conv4_block4_1_relu[0][0]        \n",
      "__________________________________________________________________________________________________\n",
      "conv4_block4_2_bn (BatchNormali (None, None, None, 2 1024        conv4_block4_2_conv[0][0]        \n",
      "__________________________________________________________________________________________________\n",
      "conv4_block4_2_relu (Activation (None, None, None, 2 0           conv4_block4_2_bn[0][0]          \n",
      "__________________________________________________________________________________________________\n",
      "conv4_block4_3_conv (Conv2D)    (None, None, None, 1 263168      conv4_block4_2_relu[0][0]        \n",
      "__________________________________________________________________________________________________\n",
      "conv4_block4_3_bn (BatchNormali (None, None, None, 1 4096        conv4_block4_3_conv[0][0]        \n",
      "__________________________________________________________________________________________________\n",
      "conv4_block4_add (Add)          (None, None, None, 1 0           conv4_block3_out[0][0]           \n",
      "                                                                 conv4_block4_3_bn[0][0]          \n",
      "__________________________________________________________________________________________________\n",
      "conv4_block4_out (Activation)   (None, None, None, 1 0           conv4_block4_add[0][0]           \n",
      "__________________________________________________________________________________________________\n",
      "conv4_block5_1_conv (Conv2D)    (None, None, None, 2 262400      conv4_block4_out[0][0]           \n",
      "__________________________________________________________________________________________________\n",
      "conv4_block5_1_bn (BatchNormali (None, None, None, 2 1024        conv4_block5_1_conv[0][0]        \n",
      "__________________________________________________________________________________________________\n",
      "conv4_block5_1_relu (Activation (None, None, None, 2 0           conv4_block5_1_bn[0][0]          \n",
      "__________________________________________________________________________________________________\n",
      "conv4_block5_2_conv (Conv2D)    (None, None, None, 2 590080      conv4_block5_1_relu[0][0]        \n",
      "__________________________________________________________________________________________________\n",
      "conv4_block5_2_bn (BatchNormali (None, None, None, 2 1024        conv4_block5_2_conv[0][0]        \n",
      "__________________________________________________________________________________________________\n",
      "conv4_block5_2_relu (Activation (None, None, None, 2 0           conv4_block5_2_bn[0][0]          \n",
      "__________________________________________________________________________________________________\n",
      "conv4_block5_3_conv (Conv2D)    (None, None, None, 1 263168      conv4_block5_2_relu[0][0]        \n",
      "__________________________________________________________________________________________________\n",
      "conv4_block5_3_bn (BatchNormali (None, None, None, 1 4096        conv4_block5_3_conv[0][0]        \n",
      "__________________________________________________________________________________________________\n",
      "conv4_block5_add (Add)          (None, None, None, 1 0           conv4_block4_out[0][0]           \n",
      "                                                                 conv4_block5_3_bn[0][0]          \n",
      "__________________________________________________________________________________________________\n",
      "conv4_block5_out (Activation)   (None, None, None, 1 0           conv4_block5_add[0][0]           \n",
      "__________________________________________________________________________________________________\n",
      "conv4_block6_1_conv (Conv2D)    (None, None, None, 2 262400      conv4_block5_out[0][0]           \n",
      "__________________________________________________________________________________________________\n",
      "conv4_block6_1_bn (BatchNormali (None, None, None, 2 1024        conv4_block6_1_conv[0][0]        \n",
      "__________________________________________________________________________________________________\n",
      "conv4_block6_1_relu (Activation (None, None, None, 2 0           conv4_block6_1_bn[0][0]          \n",
      "__________________________________________________________________________________________________\n",
      "conv4_block6_2_conv (Conv2D)    (None, None, None, 2 590080      conv4_block6_1_relu[0][0]        \n",
      "__________________________________________________________________________________________________\n",
      "conv4_block6_2_bn (BatchNormali (None, None, None, 2 1024        conv4_block6_2_conv[0][0]        \n",
      "__________________________________________________________________________________________________\n",
      "conv4_block6_2_relu (Activation (None, None, None, 2 0           conv4_block6_2_bn[0][0]          \n",
      "__________________________________________________________________________________________________\n",
      "conv4_block6_3_conv (Conv2D)    (None, None, None, 1 263168      conv4_block6_2_relu[0][0]        \n",
      "__________________________________________________________________________________________________\n",
      "conv4_block6_3_bn (BatchNormali (None, None, None, 1 4096        conv4_block6_3_conv[0][0]        \n",
      "__________________________________________________________________________________________________\n",
      "conv4_block6_add (Add)          (None, None, None, 1 0           conv4_block5_out[0][0]           \n",
      "                                                                 conv4_block6_3_bn[0][0]          \n",
      "__________________________________________________________________________________________________\n",
      "conv4_block6_out (Activation)   (None, None, None, 1 0           conv4_block6_add[0][0]           \n",
      "__________________________________________________________________________________________________\n",
      "conv5_block1_1_conv (Conv2D)    (None, None, None, 5 524800      conv4_block6_out[0][0]           \n",
      "__________________________________________________________________________________________________\n",
      "conv5_block1_1_bn (BatchNormali (None, None, None, 5 2048        conv5_block1_1_conv[0][0]        \n",
      "__________________________________________________________________________________________________\n",
      "conv5_block1_1_relu (Activation (None, None, None, 5 0           conv5_block1_1_bn[0][0]          \n",
      "__________________________________________________________________________________________________\n",
      "conv5_block1_2_conv (Conv2D)    (None, None, None, 5 2359808     conv5_block1_1_relu[0][0]        \n",
      "__________________________________________________________________________________________________\n",
      "conv5_block1_2_bn (BatchNormali (None, None, None, 5 2048        conv5_block1_2_conv[0][0]        \n",
      "__________________________________________________________________________________________________\n",
      "conv5_block1_2_relu (Activation (None, None, None, 5 0           conv5_block1_2_bn[0][0]          \n",
      "__________________________________________________________________________________________________\n",
      "conv5_block1_0_conv (Conv2D)    (None, None, None, 2 2099200     conv4_block6_out[0][0]           \n",
      "__________________________________________________________________________________________________\n",
      "conv5_block1_3_conv (Conv2D)    (None, None, None, 2 1050624     conv5_block1_2_relu[0][0]        \n",
      "__________________________________________________________________________________________________\n",
      "conv5_block1_0_bn (BatchNormali (None, None, None, 2 8192        conv5_block1_0_conv[0][0]        \n",
      "__________________________________________________________________________________________________\n",
      "conv5_block1_3_bn (BatchNormali (None, None, None, 2 8192        conv5_block1_3_conv[0][0]        \n",
      "__________________________________________________________________________________________________\n",
      "conv5_block1_add (Add)          (None, None, None, 2 0           conv5_block1_0_bn[0][0]          \n",
      "                                                                 conv5_block1_3_bn[0][0]          \n",
      "__________________________________________________________________________________________________\n",
      "conv5_block1_out (Activation)   (None, None, None, 2 0           conv5_block1_add[0][0]           \n",
      "__________________________________________________________________________________________________\n",
      "conv5_block2_1_conv (Conv2D)    (None, None, None, 5 1049088     conv5_block1_out[0][0]           \n",
      "__________________________________________________________________________________________________\n",
      "conv5_block2_1_bn (BatchNormali (None, None, None, 5 2048        conv5_block2_1_conv[0][0]        \n",
      "__________________________________________________________________________________________________\n",
      "conv5_block2_1_relu (Activation (None, None, None, 5 0           conv5_block2_1_bn[0][0]          \n",
      "__________________________________________________________________________________________________\n",
      "conv5_block2_2_conv (Conv2D)    (None, None, None, 5 2359808     conv5_block2_1_relu[0][0]        \n",
      "__________________________________________________________________________________________________\n",
      "conv5_block2_2_bn (BatchNormali (None, None, None, 5 2048        conv5_block2_2_conv[0][0]        \n",
      "__________________________________________________________________________________________________\n",
      "conv5_block2_2_relu (Activation (None, None, None, 5 0           conv5_block2_2_bn[0][0]          \n",
      "__________________________________________________________________________________________________\n",
      "conv5_block2_3_conv (Conv2D)    (None, None, None, 2 1050624     conv5_block2_2_relu[0][0]        \n",
      "__________________________________________________________________________________________________\n",
      "conv5_block2_3_bn (BatchNormali (None, None, None, 2 8192        conv5_block2_3_conv[0][0]        \n",
      "__________________________________________________________________________________________________\n",
      "conv5_block2_add (Add)          (None, None, None, 2 0           conv5_block1_out[0][0]           \n",
      "                                                                 conv5_block2_3_bn[0][0]          \n",
      "__________________________________________________________________________________________________\n",
      "conv5_block2_out (Activation)   (None, None, None, 2 0           conv5_block2_add[0][0]           \n",
      "__________________________________________________________________________________________________\n",
      "conv5_block3_1_conv (Conv2D)    (None, None, None, 5 1049088     conv5_block2_out[0][0]           \n",
      "__________________________________________________________________________________________________\n",
      "conv5_block3_1_bn (BatchNormali (None, None, None, 5 2048        conv5_block3_1_conv[0][0]        \n",
      "__________________________________________________________________________________________________\n",
      "conv5_block3_1_relu (Activation (None, None, None, 5 0           conv5_block3_1_bn[0][0]          \n",
      "__________________________________________________________________________________________________\n",
      "conv5_block3_2_conv (Conv2D)    (None, None, None, 5 2359808     conv5_block3_1_relu[0][0]        \n",
      "__________________________________________________________________________________________________\n",
      "conv5_block3_2_bn (BatchNormali (None, None, None, 5 2048        conv5_block3_2_conv[0][0]        \n",
      "__________________________________________________________________________________________________\n",
      "conv5_block3_2_relu (Activation (None, None, None, 5 0           conv5_block3_2_bn[0][0]          \n",
      "__________________________________________________________________________________________________\n",
      "conv5_block3_3_conv (Conv2D)    (None, None, None, 2 1050624     conv5_block3_2_relu[0][0]        \n",
      "__________________________________________________________________________________________________\n",
      "conv5_block3_3_bn (BatchNormali (None, None, None, 2 8192        conv5_block3_3_conv[0][0]        \n",
      "__________________________________________________________________________________________________\n",
      "conv5_block3_add (Add)          (None, None, None, 2 0           conv5_block2_out[0][0]           \n",
      "                                                                 conv5_block3_3_bn[0][0]          \n",
      "__________________________________________________________________________________________________\n",
      "conv5_block3_out (Activation)   (None, None, None, 2 0           conv5_block3_add[0][0]           \n",
      "__________________________________________________________________________________________________\n",
      "global_average_pooling2d (Globa (None, 2048)         0           conv5_block3_out[0][0]           \n",
      "__________________________________________________________________________________________________\n",
      "dense (Dense)                   (None, 1024)         2098176     global_average_pooling2d[0][0]   \n",
      "__________________________________________________________________________________________________\n",
      "dense_1 (Dense)                 (None, 1024)         1049600     dense[0][0]                      \n",
      "__________________________________________________________________________________________________\n",
      "dense_2 (Dense)                 (None, 166)          170150      dense_1[0][0]                    \n",
      "==================================================================================================\n",
      "Total params: 26,905,638\n",
      "Trainable params: 3,317,926\n",
      "Non-trainable params: 23,587,712\n",
      "__________________________________________________________________________________________________\n"
     ]
    }
   ],
   "source": [
    "model.summary()"
   ]
  },
  {
   "cell_type": "markdown",
   "metadata": {},
   "source": [
    "### 定义优化器和损失函数"
   ]
  },
  {
   "cell_type": "code",
   "execution_count": 24,
   "metadata": {},
   "outputs": [],
   "source": [
    "from tensorflow.keras.optimizers import Adam\n",
    "from tensorflow.keras.metrics import categorical_crossentropy\n",
    "\n",
    "model.compile(optimizer='Adam', loss='categorical_crossentropy', metrics=['accuracy'])"
   ]
  },
  {
   "cell_type": "code",
   "execution_count": null,
   "metadata": {},
   "outputs": [],
   "source": [
    "# 可用的数据增强\n",
    ",\n",
    "                                 rotation_range=40,\n",
    "                                 width_shift_range=0.2,\n",
    "                                 height_shift_range=0.2,\n",
    "                                 shear_range=0.2,\n",
    "                                 zoom_range=0.2,\n",
    "                                 horizontal_flip=True,\n",
    "                                 fill_mode='nearest'"
   ]
  },
  {
   "cell_type": "markdown",
   "metadata": {},
   "source": [
    "### 数据生成器"
   ]
  },
  {
   "cell_type": "code",
   "execution_count": 25,
   "metadata": {},
   "outputs": [
    {
     "name": "stdout",
     "output_type": "stream",
     "text": [
      "Found 7167 images belonging to 166 classes.\n",
      "Found 870 images belonging to 166 classes.\n"
     ]
    }
   ],
   "source": [
    "from tensorflow.keras.preprocessing.image import ImageDataGenerator\n",
    "from tensorflow.keras.applications.mobilenet import preprocess_input\n",
    "from tensorflow.keras.preprocessing import image\n",
    "\n",
    "\n",
    "train_datagen=ImageDataGenerator(preprocessing_function=preprocess_input)\n",
    "val_datagen=ImageDataGenerator(preprocessing_function=preprocess_input)\n",
    "\n",
    "train_generator = train_datagen.flow_from_directory(\n",
    "        train_dataset_path,\n",
    "        target_size=(224,224),\n",
    "        classes=class_name,\n",
    "        color_mode='rgb',\n",
    "        batch_size=32,\n",
    "        class_mode='categorical')\n",
    "\n",
    "val_generator = val_datagen.flow_from_directory(\n",
    "        val_dataset_path,\n",
    "        target_size=(224,224),\n",
    "        classes=class_name,\n",
    "        color_mode='rgb',\n",
    "        batch_size=32,\n",
    "        class_mode='categorical')"
   ]
  },
  {
   "cell_type": "markdown",
   "metadata": {},
   "source": [
    "### 设置 EarlyStoping 条件"
   ]
  },
  {
   "cell_type": "code",
   "execution_count": 26,
   "metadata": {},
   "outputs": [],
   "source": [
    "from tensorflow.keras.callbacks import EarlyStopping\n",
    "\n",
    "earlystop = EarlyStopping(monitor=\"val_loss\", patience=3, verbose=1)"
   ]
  },
  {
   "cell_type": "markdown",
   "metadata": {},
   "source": [
    "### 开始训练"
   ]
  },
  {
   "cell_type": "code",
   "execution_count": 17,
   "metadata": {
    "collapsed": true,
    "jupyter": {
     "outputs_hidden": true
    },
    "tags": []
   },
   "outputs": [
    {
     "name": "stdout",
     "output_type": "stream",
     "text": [
      "Epoch 1/20\n",
      "100/100 [==============================] - 8s 77ms/step - loss: 1.3202 - accuracy: 0.6511 - val_loss: 1.9060 - val_accuracy: 0.5625\n",
      "Epoch 2/20\n",
      "100/100 [==============================] - 8s 77ms/step - loss: 1.0765 - accuracy: 0.7033 - val_loss: 1.7261 - val_accuracy: 0.5844\n",
      "Epoch 3/20\n",
      "100/100 [==============================] - 8s 76ms/step - loss: 1.0670 - accuracy: 0.7025 - val_loss: 1.4010 - val_accuracy: 0.6562\n",
      "Epoch 4/20\n",
      "100/100 [==============================] - 8s 78ms/step - loss: 0.9683 - accuracy: 0.7224 - val_loss: 1.5646 - val_accuracy: 0.5969\n",
      "Epoch 5/20\n",
      "100/100 [==============================] - 8s 78ms/step - loss: 0.9993 - accuracy: 0.7156 - val_loss: 1.6328 - val_accuracy: 0.6219\n",
      "Epoch 6/20\n",
      "100/100 [==============================] - 8s 78ms/step - loss: 0.9154 - accuracy: 0.7428 - val_loss: 1.7094 - val_accuracy: 0.6000\n",
      "Epoch 00006: early stopping\n",
      "Epoch 1/20\n",
      "100/100 [==============================] - 8s 82ms/step - loss: 0.9119 - accuracy: 0.7397 - val_loss: 1.5971 - val_accuracy: 0.6125\n",
      "Epoch 2/20\n",
      "100/100 [==============================] - 8s 75ms/step - loss: 0.8468 - accuracy: 0.7615 - val_loss: 1.4999 - val_accuracy: 0.6500\n",
      "Epoch 3/20\n",
      "100/100 [==============================] - 8s 80ms/step - loss: 0.8607 - accuracy: 0.7481 - val_loss: 1.4283 - val_accuracy: 0.6531\n",
      "Epoch 4/20\n",
      "100/100 [==============================] - 8s 75ms/step - loss: 0.8284 - accuracy: 0.7622 - val_loss: 1.9107 - val_accuracy: 0.5500\n",
      "Epoch 5/20\n",
      "100/100 [==============================] - 8s 79ms/step - loss: 0.7612 - accuracy: 0.7816 - val_loss: 1.7884 - val_accuracy: 0.6219\n",
      "Epoch 6/20\n",
      "100/100 [==============================] - 8s 76ms/step - loss: 0.7482 - accuracy: 0.7881 - val_loss: 1.5286 - val_accuracy: 0.6062\n",
      "Epoch 00006: early stopping\n",
      "Epoch 1/20\n",
      "100/100 [==============================] - 8s 78ms/step - loss: 0.7546 - accuracy: 0.7788 - val_loss: 1.6773 - val_accuracy: 0.6469\n",
      "Epoch 2/20\n",
      "100/100 [==============================] - 8s 76ms/step - loss: 0.7046 - accuracy: 0.7947 - val_loss: 1.6932 - val_accuracy: 0.6438\n",
      "Epoch 3/20\n",
      "100/100 [==============================] - 8s 78ms/step - loss: 0.6951 - accuracy: 0.7953 - val_loss: 1.5629 - val_accuracy: 0.6687\n",
      "Epoch 4/20\n",
      "100/100 [==============================] - 8s 76ms/step - loss: 0.6791 - accuracy: 0.8087 - val_loss: 1.7852 - val_accuracy: 0.5969\n",
      "Epoch 5/20\n",
      "100/100 [==============================] - 8s 75ms/step - loss: 0.6484 - accuracy: 0.8053 - val_loss: 1.3970 - val_accuracy: 0.6844\n",
      "Epoch 6/20\n",
      "100/100 [==============================] - 8s 76ms/step - loss: 0.6004 - accuracy: 0.8228 - val_loss: 1.7281 - val_accuracy: 0.6438\n",
      "Epoch 7/20\n",
      "100/100 [==============================] - 8s 78ms/step - loss: 0.6332 - accuracy: 0.8031 - val_loss: 1.6699 - val_accuracy: 0.6094\n",
      "Epoch 8/20\n",
      "100/100 [==============================] - 8s 82ms/step - loss: 0.6027 - accuracy: 0.8263 - val_loss: 1.3450 - val_accuracy: 0.6906\n",
      "Epoch 9/20\n",
      "100/100 [==============================] - 8s 78ms/step - loss: 0.5616 - accuracy: 0.8396 - val_loss: 1.5167 - val_accuracy: 0.6406\n",
      "Epoch 10/20\n",
      "100/100 [==============================] - 8s 77ms/step - loss: 0.6033 - accuracy: 0.8234 - val_loss: 1.3014 - val_accuracy: 0.6906\n",
      "Epoch 11/20\n",
      "100/100 [==============================] - 8s 75ms/step - loss: 0.5203 - accuracy: 0.8521 - val_loss: 1.4686 - val_accuracy: 0.6656\n",
      "Epoch 12/20\n",
      "100/100 [==============================] - 8s 75ms/step - loss: 0.5331 - accuracy: 0.8391 - val_loss: 1.5682 - val_accuracy: 0.6594\n",
      "Epoch 13/20\n",
      "100/100 [==============================] - 7s 75ms/step - loss: 0.5230 - accuracy: 0.8356 - val_loss: 1.2692 - val_accuracy: 0.6875\n",
      "Epoch 14/20\n",
      "100/100 [==============================] - 8s 77ms/step - loss: 0.5137 - accuracy: 0.8440 - val_loss: 1.3988 - val_accuracy: 0.6812\n",
      "Epoch 15/20\n",
      "100/100 [==============================] - 8s 79ms/step - loss: 0.4691 - accuracy: 0.8600 - val_loss: 1.4304 - val_accuracy: 0.6969\n",
      "Epoch 16/20\n",
      "100/100 [==============================] - 8s 78ms/step - loss: 0.4774 - accuracy: 0.8518 - val_loss: 1.5073 - val_accuracy: 0.7156\n",
      "Epoch 00016: early stopping\n",
      "Epoch 1/20\n",
      "100/100 [==============================] - 8s 80ms/step - loss: 0.5112 - accuracy: 0.8388 - val_loss: 1.6272 - val_accuracy: 0.6844\n",
      "Epoch 2/20\n",
      "100/100 [==============================] - 8s 79ms/step - loss: 0.4326 - accuracy: 0.8712 - val_loss: 1.6594 - val_accuracy: 0.6719\n",
      "Epoch 3/20\n",
      "100/100 [==============================] - 8s 76ms/step - loss: 0.4122 - accuracy: 0.8734 - val_loss: 1.3370 - val_accuracy: 0.7281\n",
      "Epoch 4/20\n",
      "100/100 [==============================] - 8s 77ms/step - loss: 0.4364 - accuracy: 0.8628 - val_loss: 1.4812 - val_accuracy: 0.6906\n",
      "Epoch 5/20\n",
      "100/100 [==============================] - 7s 73ms/step - loss: 0.3864 - accuracy: 0.8850 - val_loss: 1.5798 - val_accuracy: 0.6313\n",
      "Epoch 6/20\n",
      "100/100 [==============================] - 7s 74ms/step - loss: 0.3863 - accuracy: 0.8812 - val_loss: 1.5712 - val_accuracy: 0.6812\n",
      "Epoch 00006: early stopping\n",
      "Epoch 1/20\n",
      "100/100 [==============================] - 8s 76ms/step - loss: 0.4062 - accuracy: 0.8731 - val_loss: 1.7395 - val_accuracy: 0.6875\n",
      "Epoch 2/20\n",
      "100/100 [==============================] - 8s 75ms/step - loss: 0.3802 - accuracy: 0.8838 - val_loss: 1.7416 - val_accuracy: 0.6562\n",
      "Epoch 3/20\n",
      "100/100 [==============================] - 8s 75ms/step - loss: 0.4060 - accuracy: 0.8778 - val_loss: 2.0467 - val_accuracy: 0.6156\n",
      "Epoch 4/20\n",
      "100/100 [==============================] - 7s 74ms/step - loss: 0.3805 - accuracy: 0.8815 - val_loss: 1.7751 - val_accuracy: 0.6687\n",
      "Epoch 00004: early stopping\n",
      "Epoch 1/20\n",
      "100/100 [==============================] - 8s 75ms/step - loss: 0.3676 - accuracy: 0.8834 - val_loss: 1.4317 - val_accuracy: 0.7188\n",
      "Epoch 2/20\n",
      "100/100 [==============================] - 8s 75ms/step - loss: 0.3850 - accuracy: 0.8778 - val_loss: 1.4808 - val_accuracy: 0.6500\n",
      "Epoch 3/20\n",
      "100/100 [==============================] - 7s 74ms/step - loss: 0.3366 - accuracy: 0.8925 - val_loss: 1.5350 - val_accuracy: 0.6969\n",
      "Epoch 4/20\n",
      "100/100 [==============================] - 8s 75ms/step - loss: 0.3103 - accuracy: 0.9062 - val_loss: 1.6914 - val_accuracy: 0.6844\n",
      "Epoch 00004: early stopping\n",
      "Epoch 1/20\n",
      "100/100 [==============================] - 8s 75ms/step - loss: 0.3195 - accuracy: 0.8953 - val_loss: 1.7374 - val_accuracy: 0.6594\n",
      "Epoch 2/20\n",
      "100/100 [==============================] - 8s 75ms/step - loss: 0.3076 - accuracy: 0.8978 - val_loss: 1.4843 - val_accuracy: 0.7219\n",
      "Epoch 3/20\n",
      "100/100 [==============================] - 7s 73ms/step - loss: 0.3136 - accuracy: 0.9047 - val_loss: 1.7658 - val_accuracy: 0.6844\n",
      "Epoch 4/20\n",
      "100/100 [==============================] - 7s 74ms/step - loss: 0.2872 - accuracy: 0.9084 - val_loss: 1.7992 - val_accuracy: 0.6938\n",
      "Epoch 5/20\n",
      "100/100 [==============================] - 8s 78ms/step - loss: 0.2398 - accuracy: 0.9240 - val_loss: 2.0105 - val_accuracy: 0.6687\n",
      "Epoch 00005: early stopping\n",
      "Epoch 1/20\n",
      "100/100 [==============================] - 8s 79ms/step - loss: 0.3494 - accuracy: 0.8887 - val_loss: 2.0541 - val_accuracy: 0.6344\n",
      "Epoch 2/20\n",
      "100/100 [==============================] - 7s 74ms/step - loss: 0.3238 - accuracy: 0.8984 - val_loss: 1.4833 - val_accuracy: 0.7312\n",
      "Epoch 3/20\n",
      "100/100 [==============================] - 7s 71ms/step - loss: 0.2870 - accuracy: 0.9081 - val_loss: 1.6695 - val_accuracy: 0.7063\n",
      "Epoch 4/20\n",
      "100/100 [==============================] - 7s 73ms/step - loss: 0.2529 - accuracy: 0.9216 - val_loss: 1.6164 - val_accuracy: 0.6906\n",
      "Epoch 5/20\n",
      "100/100 [==============================] - 8s 75ms/step - loss: 0.2903 - accuracy: 0.9040 - val_loss: 2.0209 - val_accuracy: 0.6687\n",
      "Epoch 00005: early stopping\n",
      "Epoch 1/20\n",
      "100/100 [==============================] - 8s 77ms/step - loss: 0.2588 - accuracy: 0.9162 - val_loss: 1.8314 - val_accuracy: 0.6656\n",
      "Epoch 2/20\n",
      "100/100 [==============================] - 8s 75ms/step - loss: 0.2689 - accuracy: 0.9134 - val_loss: 1.9125 - val_accuracy: 0.6719\n",
      "Epoch 3/20\n",
      "100/100 [==============================] - 7s 72ms/step - loss: 0.2508 - accuracy: 0.9234 - val_loss: 1.8629 - val_accuracy: 0.7000\n",
      "Epoch 4/20\n",
      "100/100 [==============================] - 7s 74ms/step - loss: 0.2344 - accuracy: 0.9194 - val_loss: 1.8535 - val_accuracy: 0.6844\n",
      "Epoch 00004: early stopping\n",
      "Epoch 1/20\n",
      "100/100 [==============================] - 7s 74ms/step - loss: 0.2697 - accuracy: 0.9144 - val_loss: 1.8677 - val_accuracy: 0.6969\n",
      "Epoch 2/20\n",
      "100/100 [==============================] - 7s 74ms/step - loss: 0.2295 - accuracy: 0.9297 - val_loss: 1.7107 - val_accuracy: 0.6844\n",
      "Epoch 3/20\n",
      "100/100 [==============================] - 7s 73ms/step - loss: 0.2339 - accuracy: 0.9256 - val_loss: 2.0976 - val_accuracy: 0.6687\n",
      "Epoch 4/20\n",
      "100/100 [==============================] - 7s 71ms/step - loss: 0.2029 - accuracy: 0.9344 - val_loss: 1.9769 - val_accuracy: 0.7094\n",
      "Epoch 5/20\n",
      "100/100 [==============================] - 7s 71ms/step - loss: 0.2397 - accuracy: 0.9200 - val_loss: 1.8091 - val_accuracy: 0.7219\n",
      "Epoch 00005: early stopping\n"
     ]
    }
   ],
   "source": [
    "for i in range(10):\n",
    "    history = model.fit(\n",
    "                train_generator,\n",
    "                epochs=20,\n",
    "                steps_per_epoch=100,\n",
    "                validation_data=val_generator,\n",
    "                validation_steps=10,\n",
    "                callbacks=earlystop)"
   ]
  },
  {
   "cell_type": "markdown",
   "metadata": {},
   "source": [
    "### 模型评估"
   ]
  },
  {
   "cell_type": "code",
   "execution_count": 29,
   "metadata": {},
   "outputs": [
    {
     "name": "stdout",
     "output_type": "stream",
     "text": [
      "10/10 [==============================] - 2s 79ms/step - loss: 0.3719 - accuracy: 0.9187\n"
     ]
    },
    {
     "data": {
      "text/plain": [
       "[0.37189191579818726, 0.918749988079071]"
      ]
     },
     "execution_count": 29,
     "metadata": {},
     "output_type": "execute_result"
    }
   ],
   "source": [
    "model.evaluate(\n",
    "        val_generator,\n",
    "        steps=10,\n",
    "        callbacks=earlystop,\n",
    "        verbose=1)"
   ]
  },
  {
   "cell_type": "markdown",
   "metadata": {},
   "source": [
    "### 保存模型"
   ]
  },
  {
   "cell_type": "code",
   "execution_count": 19,
   "metadata": {},
   "outputs": [],
   "source": [
    "model.save(model_path)"
   ]
  },
  {
   "cell_type": "markdown",
   "metadata": {},
   "source": [
    "### 加载模型"
   ]
  },
  {
   "cell_type": "code",
   "execution_count": 28,
   "metadata": {
    "tags": []
   },
   "outputs": [],
   "source": [
    "model = tf.keras.models.load_model(model_path)"
   ]
  },
  {
   "cell_type": "markdown",
   "metadata": {},
   "source": [
    "### 单张预测"
   ]
  },
  {
   "cell_type": "code",
   "execution_count": 37,
   "metadata": {},
   "outputs": [
    {
     "data": {
      "image/png": "[encoded data removed]",
      "text/plain": [
       "<Figure size 432x288 with 1 Axes>"
      ]
     },
     "metadata": {
      "needs_background": "light"
     },
     "output_type": "display_data"
    },
    {
     "name": "stdout",
     "output_type": "stream",
     "text": [
      "['一品苏黄']\n"
     ]
    }
   ],
   "source": [
    "from matplotlib import pyplot as plt\n",
    "\n",
    "def load_image(img_path):\n",
    "    img = image.load_img(img_path, target_size=(224, 224))\n",
    "    img_tensor = image.img_to_array(img)                    \n",
    "    img_tensor = np.expand_dims(img_tensor, axis=0)         \n",
    "    img_tensor /= 255.                                      \n",
    "\n",
    "    plt.imshow(img_tensor[0])                           \n",
    "    plt.axis('off')\n",
    "    plt.show()\n",
    "\n",
    "    return img_tensor\n",
    "\n",
    "img_path = 'data/classified/val/一品苏黄/1103_1954.jpg'\n",
    "img_tensor = load_image(img_path)\n",
    "\n",
    "pred = model.predict(img_tensor)\n",
    "\n",
    "# print([[class_name[i], prob] for i, prob in enumerate(pred[0])])\n",
    "print([class_name[np.argmax(prob)] for prob in pred])"
   ]
  },
  {
   "cell_type": "code",
   "execution_count": 38,
   "metadata": {},
   "outputs": [
    {
     "data": {
      "text/plain": [
       "'一品苏黄'"
      ]
     },
     "execution_count": 38,
     "metadata": {},
     "output_type": "execute_result"
    }
   ],
   "source": [
    "class_name[np.argmax(pred[0])]"
   ]
  },
  {
   "cell_type": "markdown",
   "metadata": {},
   "source": [
    "### 批量预测"
   ]
  },
  {
   "cell_type": "code",
   "execution_count": 39,
   "metadata": {},
   "outputs": [],
   "source": [
    "from tensorflow.keras.preprocessing import image\n",
    "import numpy as np\n",
    "\n",
    "# 加载一批图像\n",
    "def load_image_list(test_dir):\n",
    "    image_tensor_list = []    \n",
    "    image_list = [os.path.join(test_dir, img_name) for img_name in os.listdir(test_dir)]\n",
    "    for image_path in image_list:\n",
    "        img = image.load_img(image_path, target_size=(224, 224))\n",
    "        img_tensor = image.img_to_array(img)                    \n",
    "        img_tensor = np.expand_dims(img_tensor, axis=0)         \n",
    "        img_tensor /= 255.\n",
    "        image_tensor_list.append(img_tensor.reshape(224,224,3))\n",
    "\n",
    "    return np.asarray(image_tensor_list)"
   ]
  },
  {
   "cell_type": "code",
   "execution_count": 40,
   "metadata": {},
   "outputs": [
    {
     "name": "stdout",
     "output_type": "stream",
     "text": [
      "['道光', '牛栏山41.6度小牛白酒500ml', '牛栏山41.6度小牛白酒500ml', '一品苏黄', '牛栏山41.6度小牛白酒500ml', '老村长38度流金溢彩450ml', '牛栏山42度二锅头白酒2L', '绵竹大曲52度500ml', '牛栏山43度珍品陈酿白酒500ml', '绵竹大曲52度500ml', '一品苏黄']\n"
     ]
    }
   ],
   "source": [
    "img_list = load_image_list(\"data/classified/val/一品苏黄/\")\n",
    "preds = model.predict_on_batch(img_list)\n",
    "results = [class_name[np.argmax(prob)] for prob in preds]\n",
    "print(results)"
   ]
  },
  {
   "cell_type": "markdown",
   "metadata": {},
   "source": [
    "### 计算 Top-1 / Top-5 Acc"
   ]
  },
  {
   "cell_type": "code",
   "execution_count": 41,
   "metadata": {},
   "outputs": [
    {
     "name": "stdout",
     "output_type": "stream",
     "text": [
      "Top-1 Acc: 0.15747126436781608\n",
      "Top-5 Acc: 0.4103448275862069\n",
      "Total testing images: 870\n"
     ]
    }
   ],
   "source": [
    "top1_corrects = 0\n",
    "top5_corrects = 0\n",
    "total = 0\n",
    "\n",
    "acc = {\n",
    "    \"class_name\": class_name,\n",
    "    \"top1\": [],\n",
    "    \"top5\": [],\n",
    "}\n",
    "\n",
    "for idx, cls_name in enumerate(class_name):\n",
    "    t1, t5 = 0, 0\n",
    "    test_dir = f\"{val_dataset_path}/{cls_name}\"\n",
    "    img_list = load_image_list(test_dir)\n",
    "    if len(img_list) > 0:\n",
    "        preds = model.predict_on_batch(img_list)\n",
    "        total += len(preds)\n",
    "        for pred in preds:          \n",
    "            top_ids = pred.argsort()[-5:][::-1]\n",
    "            if idx == top_ids[0]:\n",
    "                top1_corrects += 1\n",
    "                t1 += 1\n",
    "            if idx in top_ids:\n",
    "                top5_corrects += 1\n",
    "                t5 += 1\n",
    "    acc[\"top1\"].append(t1/len(preds))\n",
    "    acc[\"top5\"].append(t5/len(preds))\n",
    "                \n",
    "print(f\"Top-1 Acc: {top1_corrects/total}\")\n",
    "print(f\"Top-5 Acc: {top5_corrects/total}\")\n",
    "print(f\"Total testing images: {total}\")"
   ]
  },
  {
   "cell_type": "code",
   "execution_count": 42,
   "metadata": {},
   "outputs": [
    {
     "data": {
      "text/plain": [
       "166"
      ]
     },
     "execution_count": 42,
     "metadata": {},
     "output_type": "execute_result"
    }
   ],
   "source": [
    "len(class_name)"
   ]
  },
  {
   "cell_type": "code",
   "execution_count": null,
   "metadata": {},
   "outputs": [],
   "source": []
  }
 ],
 "metadata": {
  "kernelspec": {
   "display_name": "Python 3",
   "language": "python",
   "name": "python3"
  },
  "language_info": {
   "codemirror_mode": {
    "name": "ipython",
    "version": 3
   },
   "file_extension": ".py",
   "mimetype": "text/x-python",
   "name": "python",
   "nbconvert_exporter": "python",
   "pygments_lexer": "ipython3",
   "version": "3.8.10"
  }
 },
 "nbformat": 4,
 "nbformat_minor": 4
}
